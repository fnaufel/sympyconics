{
 "cells": [
  {
   "cell_type": "markdown",
   "id": "12364d6b",
   "metadata": {
    "toc": true
   },
   "source": [
    "<h1>Table of Contents<span class=\"tocSkip\"></span></h1>\n",
    "<div class=\"toc\"><ul class=\"toc-item\"><li><span><a href=\"#Get-coefficients\" data-toc-modified-id=\"Get-coefficients-1\">Get coefficients</a></span></li><li><span><a href=\"#Match-experiments\" data-toc-modified-id=\"Match-experiments-2\">Match experiments</a></span></li></ul></div>"
   ]
  },
  {
   "cell_type": "code",
   "execution_count": 1,
   "id": "a1f95432",
   "metadata": {},
   "outputs": [],
   "source": [
    "import sympy as sp\n",
    "sp.init_printing()"
   ]
  },
  {
   "cell_type": "code",
   "execution_count": 2,
   "id": "dda8b53d",
   "metadata": {},
   "outputs": [],
   "source": [
    "x, y = sp.symbols('x y', real=True)"
   ]
  },
  {
   "cell_type": "code",
   "execution_count": 17,
   "id": "1bb3463a",
   "metadata": {},
   "outputs": [
    {
     "data": {
      "image/png": "[encoded data removed]",
      "text/latex": [
       "$\\displaystyle x^{2} + 2 x + y^{2} + 4 y - 4$"
      ],
      "text/plain": [
       " 2          2          \n",
       "x  + 2⋅x + y  + 4⋅y - 4"
      ]
     },
     "execution_count": 17,
     "metadata": {},
     "output_type": "execute_result"
    }
   ],
   "source": [
    "eq = x**2+2*x+y**2+4*y-4\n",
    "eq"
   ]
  },
  {
   "cell_type": "markdown",
   "id": "686b8bef",
   "metadata": {},
   "source": [
    "## Get coefficients\n",
    "\n",
    "`all_coeffs` does *not* work with multivariable polynomials."
   ]
  },
  {
   "cell_type": "code",
   "execution_count": 4,
   "id": "c1f6a586",
   "metadata": {},
   "outputs": [
    {
     "data": {
      "image/png": "[encoded data removed]",
      "text/latex": [
       "$\\displaystyle \\left[ 1, \\  2, \\  y^{2} + 4 y - 4\\right]$"
      ],
      "text/plain": [
       "⎡       2          ⎤\n",
       "⎣1, 2, y  + 4⋅y - 4⎦"
      ]
     },
     "execution_count": 4,
     "metadata": {},
     "output_type": "execute_result"
    }
   ],
   "source": [
    "coefficients = eq.as_poly(x).all_coeffs()\n",
    "coefficients"
   ]
  },
  {
   "cell_type": "markdown",
   "id": "e6c89043",
   "metadata": {},
   "source": [
    "Use `coeffs` instead???"
   ]
  },
  {
   "cell_type": "code",
   "execution_count": 5,
   "id": "d5c8b1ae",
   "metadata": {},
   "outputs": [
    {
     "data": {
      "image/png": "[encoded data removed]",
      "text/latex": [
       "$\\displaystyle \\left[ 1, \\  2, \\  1, \\  4, \\  -4\\right]$"
      ],
      "text/plain": [
       "[1, 2, 1, 4, -4]"
      ]
     },
     "execution_count": 5,
     "metadata": {},
     "output_type": "execute_result"
    }
   ],
   "source": [
    "coefficients = eq.as_poly(x, y).coeffs()\n",
    "coefficients"
   ]
  },
  {
   "cell_type": "markdown",
   "id": "bcfb6053",
   "metadata": {},
   "source": [
    "Or use dict representation???"
   ]
  },
  {
   "cell_type": "code",
   "execution_count": 6,
   "id": "fbd6732b",
   "metadata": {},
   "outputs": [
    {
     "data": {
      "image/png": "[encoded data removed]",
      "text/latex": [
       "$\\displaystyle x^{2} + 2 x + y^{2} + 4 y - 4$"
      ],
      "text/plain": [
       " 2          2          \n",
       "x  + 2⋅x + y  + 4⋅y - 4"
      ]
     },
     "execution_count": 6,
     "metadata": {},
     "output_type": "execute_result"
    }
   ],
   "source": [
    "eq"
   ]
  },
  {
   "cell_type": "code",
   "execution_count": 7,
   "id": "fccef543",
   "metadata": {},
   "outputs": [],
   "source": [
    "p = eq.as_poly(x, y)"
   ]
  },
  {
   "cell_type": "code",
   "execution_count": 8,
   "id": "73027ebd",
   "metadata": {},
   "outputs": [
    {
     "data": {
      "image/png": "[encoded data removed]",
      "text/latex": [
       "$\\displaystyle 2$"
      ],
      "text/plain": [
       "2"
      ]
     },
     "execution_count": 8,
     "metadata": {},
     "output_type": "execute_result"
    }
   ],
   "source": [
    "p.degree()"
   ]
  },
  {
   "cell_type": "code",
   "execution_count": 9,
   "id": "131f81f9",
   "metadata": {},
   "outputs": [
    {
     "data": {
      "image/png": "[encoded data removed]",
      "text/latex": [
       "$\\displaystyle \\left\\{ \\left( 0, \\  0\\right) : -4, \\  \\left( 0, \\  1\\right) : 4, \\  \\left( 0, \\  2\\right) : 1, \\  \\left( 1, \\  0\\right) : 2, \\  \\left( 2, \\  0\\right) : 1\\right\\}$"
      ],
      "text/plain": [
       "{(0, 0): -4, (0, 1): 4, (0, 2): 1, (1, 0): 2, (2, 0): 1}"
      ]
     },
     "execution_count": 9,
     "metadata": {},
     "output_type": "execute_result"
    }
   ],
   "source": [
    "coefficients = eq.as_poly(x, y).as_dict()\n",
    "coefficients"
   ]
  },
  {
   "cell_type": "code",
   "execution_count": 10,
   "id": "6386b666",
   "metadata": {},
   "outputs": [
    {
     "data": {
      "image/png": "[encoded data removed]",
      "text/latex": [
       "$\\displaystyle x^{2} + 2 x + 4 y - 4$"
      ],
      "text/plain": [
       " 2                \n",
       "x  + 2⋅x + 4⋅y - 4"
      ]
     },
     "execution_count": 10,
     "metadata": {},
     "output_type": "execute_result"
    }
   ],
   "source": [
    "eq = x**2 + 2*x + 4*y - 4\n",
    "eq"
   ]
  },
  {
   "cell_type": "code",
   "execution_count": 11,
   "id": "6a7a7610",
   "metadata": {},
   "outputs": [
    {
     "data": {
      "image/png": "[encoded data removed]",
      "text/latex": [
       "$\\displaystyle \\left\\{ \\left( 0, \\  0\\right) : -4, \\  \\left( 0, \\  1\\right) : 4, \\  \\left( 1, \\  0\\right) : 2, \\  \\left( 2, \\  0\\right) : 1\\right\\}$"
      ],
      "text/plain": [
       "{(0, 0): -4, (0, 1): 4, (1, 0): 2, (2, 0): 1}"
      ]
     },
     "execution_count": 11,
     "metadata": {},
     "output_type": "execute_result"
    }
   ],
   "source": [
    "coefficients = eq.as_poly(x, y).as_dict()\n",
    "coefficients"
   ]
  },
  {
   "cell_type": "code",
   "execution_count": 12,
   "id": "b332bcfa",
   "metadata": {},
   "outputs": [
    {
     "data": {
      "image/png": "[encoded data removed]",
      "text/latex": [
       "$\\displaystyle -4$"
      ],
      "text/plain": [
       "-4"
      ]
     },
     "execution_count": 12,
     "metadata": {},
     "output_type": "execute_result"
    }
   ],
   "source": [
    "coefficients.get((0,0))"
   ]
  },
  {
   "cell_type": "code",
   "execution_count": 13,
   "id": "dfa61888",
   "metadata": {},
   "outputs": [
    {
     "data": {
      "image/png": "[encoded data removed]",
      "text/latex": [
       "$\\displaystyle 0$"
      ],
      "text/plain": [
       "0"
      ]
     },
     "execution_count": 13,
     "metadata": {},
     "output_type": "execute_result"
    }
   ],
   "source": [
    "coefficients.get((0,2), 0)"
   ]
  },
  {
   "cell_type": "code",
   "execution_count": 14,
   "id": "da614831",
   "metadata": {},
   "outputs": [
    {
     "data": {
      "image/png": "[encoded data removed]",
      "text/latex": [
       "$\\displaystyle \\left[ -4, \\  4, \\  0, \\  2, \\  0, \\  0, \\  1, \\  0, \\  0\\right]$"
      ],
      "text/plain": [
       "[-4, 4, 0, 2, 0, 0, 1, 0, 0]"
      ]
     },
     "execution_count": 14,
     "metadata": {},
     "output_type": "execute_result"
    }
   ],
   "source": [
    "[coefficients.get((x, y), 0) for x in range(3) for y in range(3)]"
   ]
  },
  {
   "cell_type": "markdown",
   "id": "dabc065d",
   "metadata": {},
   "source": [
    "The elements are\n",
    "\n",
    "* 0: constant term F\n",
    "* 1: E $y$\n",
    "* 2: C $y^2$\n",
    "* 3: D $x$\n",
    "* 4: B $xy$: must be zero\n",
    "* 5: _ $xy^2$: must be zero\n",
    "* 6: A $x^2$\n",
    "* 7: _ $x^2y$: must be zero\n",
    "* 8: _ $x^2y^2$: must be zero"
   ]
  },
  {
   "cell_type": "markdown",
   "id": "95b843bd",
   "metadata": {},
   "source": [
    "## Match experiments"
   ]
  },
  {
   "cell_type": "code",
   "execution_count": 3,
   "id": "5e859ffa",
   "metadata": {},
   "outputs": [
    {
     "data": {
      "image/png": "[encoded data removed]",
      "text/latex": [
       "$\\displaystyle 2 \\left(x + 1\\right)^{2} + 3$"
      ],
      "text/plain": [
       "         2    \n",
       "2⋅(x + 1)  + 3"
      ]
     },
     "execution_count": 3,
     "metadata": {},
     "output_type": "execute_result"
    }
   ],
   "source": [
    "expr = 2*(x + 1)**2 + 3\n",
    "expr"
   ]
  },
  {
   "cell_type": "code",
   "execution_count": 4,
   "id": "b24cb30b",
   "metadata": {},
   "outputs": [
    {
     "data": {
      "image/png": "[encoded data removed]",
      "text/latex": [
       "$\\displaystyle \\left\\{ a : 2, \\  b : 1, \\  c : 3\\right\\}$"
      ],
      "text/plain": [
       "{a: 2, b: 1, c: 3}"
      ]
     },
     "execution_count": 4,
     "metadata": {},
     "output_type": "execute_result"
    }
   ],
   "source": [
    "a = sp.Wild('a')\n",
    "b = sp.Wild('b')\n",
    "c = sp.Wild('c')\n",
    "m = expr.match(a * (x + b)**2 + c)\n",
    "m"
   ]
  },
  {
   "cell_type": "code",
   "execution_count": 5,
   "id": "4332b2d1",
   "metadata": {},
   "outputs": [
    {
     "data": {
      "image/png": "[encoded data removed]",
      "text/latex": [
       "$\\displaystyle \\left(x + b\\right)^{2} = - \\frac{c}{a}$"
      ],
      "text/plain": [
       "       2   -c \n",
       "(x + b)  = ───\n",
       "            a "
      ]
     },
     "execution_count": 5,
     "metadata": {},
     "output_type": "execute_result"
    }
   ],
   "source": [
    "e2 = sp.Eq((x + b)**2, -c/a)\n",
    "e2"
   ]
  },
  {
   "cell_type": "code",
   "execution_count": 6,
   "id": "9ef83bce",
   "metadata": {},
   "outputs": [
    {
     "data": {
      "image/png": "[encoded data removed]",
      "text/latex": [
       "$\\displaystyle \\left(x + 1\\right)^{2} = - \\frac{3}{2}$"
      ],
      "text/plain": [
       "       2       \n",
       "(x + 1)  = -3/2"
      ]
     },
     "execution_count": 6,
     "metadata": {},
     "output_type": "execute_result"
    }
   ],
   "source": [
    "e3 = sp.Eq(e2.lhs.xreplace(m), e2.rhs.xreplace(m), evaluate=False)\n",
    "e3"
   ]
  },
  {
   "cell_type": "code",
   "execution_count": 7,
   "id": "e931103b",
   "metadata": {},
   "outputs": [
    {
     "data": {
      "image/png": "[encoded data removed]",
      "text/latex": [
       "$\\displaystyle \\left(x + 1\\right)^{2} = - \\frac{3}{2}$"
      ],
      "text/plain": [
       "       2       \n",
       "(x + 1)  = -3/2"
      ]
     },
     "execution_count": 7,
     "metadata": {},
     "output_type": "execute_result"
    }
   ],
   "source": [
    "e3 = sp.Eq(e2.lhs.subs(m), e2.rhs.subs(m), evaluate=False)\n",
    "e3"
   ]
  },
  {
   "cell_type": "code",
   "execution_count": 8,
   "id": "eade2c22",
   "metadata": {},
   "outputs": [
    {
     "data": {
      "image/png": "[encoded data removed]",
      "text/latex": [
       "$\\displaystyle x^{2} + 3 x$"
      ],
      "text/plain": [
       " 2      \n",
       "x  + 3⋅x"
      ]
     },
     "execution_count": 8,
     "metadata": {},
     "output_type": "execute_result"
    }
   ],
   "source": [
    "e = x**2 + 3*x\n",
    "e"
   ]
  },
  {
   "cell_type": "code",
   "execution_count": 9,
   "id": "a7947832",
   "metadata": {},
   "outputs": [
    {
     "data": {
      "image/png": "[encoded data removed]",
      "text/latex": [
       "$\\displaystyle \\left\\{ a : 1, \\  b : 0, \\  c : 3\\right\\}$"
      ],
      "text/plain": [
       "{a: 1, b: 0, c: 3}"
      ]
     },
     "execution_count": 9,
     "metadata": {},
     "output_type": "execute_result"
    }
   ],
   "source": [
    "a = sp.Wild('a', exclude=[x,y])\n",
    "b = sp.Wild('b', exclude=[x,y])\n",
    "c = sp.Wild('c', exclude=[x,y])\n",
    "e.match(a*x**2 + b*y**2 + c*x)"
   ]
  },
  {
   "cell_type": "code",
   "execution_count": 10,
   "id": "065f066b",
   "metadata": {},
   "outputs": [
    {
     "data": {
      "image/png": "[encoded data removed]",
      "text/latex": [
       "$\\displaystyle x^{2} + 3 x + 4 y$"
      ],
      "text/plain": [
       " 2            \n",
       "x  + 3⋅x + 4⋅y"
      ]
     },
     "execution_count": 10,
     "metadata": {},
     "output_type": "execute_result"
    }
   ],
   "source": [
    "e = x**2 + 3*x + 4*y\n",
    "e"
   ]
  },
  {
   "cell_type": "code",
   "execution_count": 11,
   "id": "424d5d29",
   "metadata": {},
   "outputs": [
    {
     "data": {
      "text/plain": [
       "True"
      ]
     },
     "execution_count": 11,
     "metadata": {},
     "output_type": "execute_result"
    }
   ],
   "source": [
    "e.match(a*x**2 + b*y**2 + c*x) is None"
   ]
  },
  {
   "cell_type": "code",
   "execution_count": 12,
   "id": "2106d89f",
   "metadata": {},
   "outputs": [
    {
     "data": {
      "image/png": "[encoded data removed]",
      "text/latex": [
       "$\\displaystyle \\left\\{ a : 2, \\  b : 1, \\  c : 3\\right\\}$"
      ],
      "text/plain": [
       "{a: 2, b: 1, c: 3}"
      ]
     },
     "execution_count": 12,
     "metadata": {},
     "output_type": "execute_result"
    }
   ],
   "source": [
    "m"
   ]
  },
  {
   "cell_type": "code",
   "execution_count": 13,
   "id": "6cce5779",
   "metadata": {},
   "outputs": [
    {
     "name": "stdout",
     "output_type": "stream",
     "text": [
      "2 1 3\n"
     ]
    }
   ],
   "source": [
    "A = m[sp.Wild('a')]\n",
    "B = m[sp.Wild('b')]\n",
    "C = m[sp.Wild('c')]\n",
    "print(A, B, C)"
   ]
  },
  {
   "cell_type": "code",
   "execution_count": null,
   "id": "f535884b",
   "metadata": {},
   "outputs": [],
   "source": []
  },
  {
   "cell_type": "code",
   "execution_count": null,
   "id": "a21654b4",
   "metadata": {},
   "outputs": [],
   "source": []
  },
  {
   "cell_type": "code",
   "execution_count": null,
   "id": "12225799",
   "metadata": {},
   "outputs": [],
   "source": []
  },
  {
   "cell_type": "code",
   "execution_count": null,
   "id": "01f227fc",
   "metadata": {},
   "outputs": [],
   "source": []
  },
  {
   "cell_type": "code",
   "execution_count": null,
   "id": "4b9e7ecc",
   "metadata": {},
   "outputs": [],
   "source": []
  },
  {
   "cell_type": "code",
   "execution_count": null,
   "id": "37011cda",
   "metadata": {},
   "outputs": [],
   "source": []
  }
 ],
 "metadata": {
  "kernelspec": {
   "display_name": "Python 3 (ipykernel)",
   "language": "python",
   "name": "python3"
  },
  "language_info": {
   "codemirror_mode": {
    "name": "ipython",
    "version": 3
   },
   "file_extension": ".py",
   "mimetype": "text/x-python",
   "name": "python",
   "nbconvert_exporter": "python",
   "pygments_lexer": "ipython3",
   "version": "3.8.10"
  },
  "toc": {
   "base_numbering": 1,
   "nav_menu": {},
   "number_sections": false,
   "sideBar": true,
   "skip_h1_title": false,
   "title_cell": "Table of Contents",
   "title_sidebar": "Contents",
   "toc_cell": true,
   "toc_position": {},
   "toc_section_display": true,
   "toc_window_display": true
  }
 },
 "nbformat": 4,
 "nbformat_minor": 5
}
