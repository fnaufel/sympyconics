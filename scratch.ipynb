{
 "cells": [
  {
   "cell_type": "code",
   "execution_count": 1,
   "id": "a1f95432",
   "metadata": {},
   "outputs": [],
   "source": [
    "import sympy as sp\n",
    "sp.init_printing()"
   ]
  },
  {
   "cell_type": "code",
   "execution_count": 2,
   "id": "dda8b53d",
   "metadata": {},
   "outputs": [],
   "source": [
    "x, y = sp.symbols('x y', real=True)"
   ]
  },
  {
   "cell_type": "code",
   "execution_count": 3,
   "id": "1bb3463a",
   "metadata": {},
   "outputs": [
    {
     "data": {
      "image/png": "[encoded data removed]",
      "text/latex": [
       "$\\displaystyle x^{2} + 2 x + y^{2} + 4 y - 4$"
      ],
      "text/plain": [
       " 2          2          \n",
       "x  + 2⋅x + y  + 4⋅y - 4"
      ]
     },
     "execution_count": 3,
     "metadata": {},
     "output_type": "execute_result"
    }
   ],
   "source": [
    "eq = x**2+2*x+y**2+4*y-4\n",
    "eq"
   ]
  },
  {
   "cell_type": "markdown",
   "id": "686b8bef",
   "metadata": {},
   "source": [
    "## Get coefficients\n",
    "\n",
    "`all_coeffs` does *not* work with multivariable polynomials."
   ]
  },
  {
   "cell_type": "code",
   "execution_count": 4,
   "id": "c1f6a586",
   "metadata": {},
   "outputs": [
    {
     "data": {
      "image/png": "[encoded data removed]",
      "text/latex": [
       "$\\displaystyle \\left[ 1, \\  2, \\  y^{2} + 4 y - 4\\right]$"
      ],
      "text/plain": [
       "⎡       2          ⎤\n",
       "⎣1, 2, y  + 4⋅y - 4⎦"
      ]
     },
     "execution_count": 4,
     "metadata": {},
     "output_type": "execute_result"
    }
   ],
   "source": [
    "coefficients = eq.as_poly(x).all_coeffs()\n",
    "coefficients"
   ]
  },
  {
   "cell_type": "markdown",
   "id": "e6c89043",
   "metadata": {},
   "source": [
    "Use `coeffs` instead???"
   ]
  },
  {
   "cell_type": "code",
   "execution_count": 5,
   "id": "d5c8b1ae",
   "metadata": {},
   "outputs": [
    {
     "data": {
      "image/png": "[encoded data removed]",
      "text/latex": [
       "$\\displaystyle \\left[ 1, \\  2, \\  1, \\  4, \\  -4\\right]$"
      ],
      "text/plain": [
       "[1, 2, 1, 4, -4]"
      ]
     },
     "execution_count": 5,
     "metadata": {},
     "output_type": "execute_result"
    }
   ],
   "source": [
    "coefficients = eq.as_poly(x, y).coeffs()\n",
    "coefficients"
   ]
  },
  {
   "cell_type": "markdown",
   "id": "bcfb6053",
   "metadata": {},
   "source": [
    "Or use dict representation???"
   ]
  },
  {
   "cell_type": "code",
   "execution_count": 6,
   "id": "fbd6732b",
   "metadata": {},
   "outputs": [
    {
     "data": {
      "image/png": "[encoded data removed]",
      "text/latex": [
       "$\\displaystyle x^{2} + 2 x + y^{2} + 4 y - 4$"
      ],
      "text/plain": [
       " 2          2          \n",
       "x  + 2⋅x + y  + 4⋅y - 4"
      ]
     },
     "execution_count": 6,
     "metadata": {},
     "output_type": "execute_result"
    }
   ],
   "source": [
    "eq"
   ]
  },
  {
   "cell_type": "code",
   "execution_count": 7,
   "id": "fccef543",
   "metadata": {},
   "outputs": [],
   "source": [
    "p = eq.as_poly(x, y)"
   ]
  },
  {
   "cell_type": "code",
   "execution_count": 8,
   "id": "73027ebd",
   "metadata": {},
   "outputs": [
    {
     "data": {
      "image/png": "[encoded data removed]",
      "text/latex": [
       "$\\displaystyle 2$"
      ],
      "text/plain": [
       "2"
      ]
     },
     "execution_count": 8,
     "metadata": {},
     "output_type": "execute_result"
    }
   ],
   "source": [
    "p.degree()"
   ]
  },
  {
   "cell_type": "code",
   "execution_count": 11,
   "id": "131f81f9",
   "metadata": {},
   "outputs": [
    {
     "data": {
      "image/png": "[encoded data removed]",
      "text/latex": [
       "$\\displaystyle \\left\\{ \\left( 0, \\  0\\right) : -4, \\  \\left( 0, \\  1\\right) : 4, \\  \\left( 0, \\  2\\right) : 1, \\  \\left( 1, \\  0\\right) : 2, \\  \\left( 2, \\  0\\right) : 1\\right\\}$"
      ],
      "text/plain": [
       "{(0, 0): -4, (0, 1): 4, (0, 2): 1, (1, 0): 2, (2, 0): 1}"
      ]
     },
     "execution_count": 11,
     "metadata": {},
     "output_type": "execute_result"
    }
   ],
   "source": [
    "coefficients = eq.as_poly(x, y).as_dict()\n",
    "coefficients"
   ]
  },
  {
   "cell_type": "code",
   "execution_count": 13,
   "id": "6386b666",
   "metadata": {},
   "outputs": [
    {
     "data": {
      "image/png": "[encoded data removed]",
      "text/latex": [
       "$\\displaystyle x^{2} + 2 x + 4 y - 4$"
      ],
      "text/plain": [
       " 2                \n",
       "x  + 2⋅x + 4⋅y - 4"
      ]
     },
     "execution_count": 13,
     "metadata": {},
     "output_type": "execute_result"
    }
   ],
   "source": [
    "eq = x**2 + 2*x + 4*y - 4\n",
    "eq"
   ]
  },
  {
   "cell_type": "code",
   "execution_count": 14,
   "id": "6a7a7610",
   "metadata": {},
   "outputs": [
    {
     "data": {
      "image/png": "[encoded data removed]",
      "text/latex": [
       "$\\displaystyle \\left\\{ \\left( 0, \\  0\\right) : -4, \\  \\left( 0, \\  1\\right) : 4, \\  \\left( 1, \\  0\\right) : 2, \\  \\left( 2, \\  0\\right) : 1\\right\\}$"
      ],
      "text/plain": [
       "{(0, 0): -4, (0, 1): 4, (1, 0): 2, (2, 0): 1}"
      ]
     },
     "execution_count": 14,
     "metadata": {},
     "output_type": "execute_result"
    }
   ],
   "source": [
    "coefficients = eq.as_poly(x, y).as_dict()\n",
    "coefficients"
   ]
  },
  {
   "cell_type": "code",
   "execution_count": 15,
   "id": "b332bcfa",
   "metadata": {},
   "outputs": [
    {
     "data": {
      "image/png": "[encoded data removed]",
      "text/latex": [
       "$\\displaystyle -4$"
      ],
      "text/plain": [
       "-4"
      ]
     },
     "execution_count": 15,
     "metadata": {},
     "output_type": "execute_result"
    }
   ],
   "source": [
    "coefficients.get((0,0))"
   ]
  },
  {
   "cell_type": "code",
   "execution_count": 18,
   "id": "dfa61888",
   "metadata": {},
   "outputs": [
    {
     "data": {
      "image/png": "[encoded data removed]",
      "text/latex": [
       "$\\displaystyle 0$"
      ],
      "text/plain": [
       "0"
      ]
     },
     "execution_count": 18,
     "metadata": {},
     "output_type": "execute_result"
    }
   ],
   "source": [
    "coefficients.get((0,2), 0)"
   ]
  },
  {
   "cell_type": "code",
   "execution_count": 19,
   "id": "da614831",
   "metadata": {},
   "outputs": [
    {
     "data": {
      "image/png": "[encoded data removed]",
      "text/latex": [
       "$\\displaystyle \\left[ -4, \\  4, \\  0, \\  2, \\  0, \\  0, \\  1, \\  0, \\  0\\right]$"
      ],
      "text/plain": [
       "[-4, 4, 0, 2, 0, 0, 1, 0, 0]"
      ]
     },
     "execution_count": 19,
     "metadata": {},
     "output_type": "execute_result"
    }
   ],
   "source": [
    "[coefficients.get((x, y), 0) for x in range(3) for y in range(3)]"
   ]
  },
  {
   "cell_type": "markdown",
   "id": "dabc065d",
   "metadata": {},
   "source": [
    "The elements are\n",
    "\n",
    "* 0: constant term F\n",
    "* 1: E $y$\n",
    "* 2: C $y^2$\n",
    "* 3: D $x$\n",
    "* 4: B $xy$: must be zero\n",
    "* 5: _ $xy^2$: must be zero\n",
    "* 6: A $x^2$\n",
    "* 7: _ $x^2y$: must be zero\n",
    "* 8: _ $x^2y^2$: must be zero"
   ]
  },
  {
   "cell_type": "code",
   "execution_count": null,
   "id": "35cf9a0c",
   "metadata": {},
   "outputs": [],
   "source": []
  },
  {
   "cell_type": "code",
   "execution_count": null,
   "id": "5e859ffa",
   "metadata": {},
   "outputs": [],
   "source": []
  },
  {
   "cell_type": "code",
   "execution_count": null,
   "id": "b24cb30b",
   "metadata": {},
   "outputs": [],
   "source": []
  },
  {
   "cell_type": "code",
   "execution_count": null,
   "id": "4332b2d1",
   "metadata": {},
   "outputs": [],
   "source": []
  },
  {
   "cell_type": "code",
   "execution_count": null,
   "id": "9ef83bce",
   "metadata": {},
   "outputs": [],
   "source": []
  },
  {
   "cell_type": "code",
   "execution_count": null,
   "id": "eade2c22",
   "metadata": {},
   "outputs": [],
   "source": []
  },
  {
   "cell_type": "code",
   "execution_count": null,
   "id": "a7947832",
   "metadata": {},
   "outputs": [],
   "source": []
  },
  {
   "cell_type": "code",
   "execution_count": null,
   "id": "f9eb2a82",
   "metadata": {},
   "outputs": [],
   "source": []
  }
 ],
 "metadata": {
  "kernelspec": {
   "display_name": "Python 3 (ipykernel)",
   "language": "python",
   "name": "python3"
  },
  "language_info": {
   "codemirror_mode": {
    "name": "ipython",
    "version": 3
   },
   "file_extension": ".py",
   "mimetype": "text/x-python",
   "name": "python",
   "nbconvert_exporter": "python",
   "pygments_lexer": "ipython3",
   "version": "3.8.10"
  }
 },
 "nbformat": 4,
 "nbformat_minor": 5
}
